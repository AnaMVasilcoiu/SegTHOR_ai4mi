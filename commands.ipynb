{
 "cells": [
  {
   "cell_type": "markdown",
   "metadata": {},
   "source": [
    "## Results - 2D viewer"
   ]
  },
  {
   "cell_type": "markdown",
   "metadata": {},
   "source": [
    "#### TOY\n",
    "python viewer/viewer.py --img_source data/TOY2/val/img data/TOY2/val/gt results/toy2/ce/iter000/val results/toy2/ce/iter005/val results/toy2/ce/best_epoch/val --show_img -C 256 --no_contour"
   ]
  },
  {
   "cell_type": "markdown",
   "metadata": {},
   "source": [
    "#### SEGTHOR\n",
    "python viewer/viewer.py --img_source data/SEGTHOR/val/img data/SEGTHOR/val/gt results/segthor/ce/iter000/val results/segthor/ce/best_epoch/val -n 2 -C 5 --remap \"{63: 1, 126: 2, 189: 3, 252: 4}\" --legend --class_names background esophagus heart trachea aorta"
   ]
  },
  {
   "cell_type": "markdown",
   "metadata": {},
   "source": []
  },
  {
   "cell_type": "markdown",
   "metadata": {},
   "source": [
    "## Results - 3D viewer"
   ]
  },
  {
   "cell_type": "markdown",
   "metadata": {},
   "source": [
    "#### SEGTHOR\n",
    "python stitch.py --data_folder results/segthor/ce/best_epoch/val --dest_folder volumes/segthor/ce --num_classes 255 --grp_regex \"(Patient_\\d\\d)_\\d\\d\\d\\d\" --source_scan_pattern \"data/segthor_train/train/{id_}/GT.nii.gz\""
   ]
  },
  {
   "cell_type": "markdown",
   "metadata": {},
   "source": [
    "## Training"
   ]
  },
  {
   "cell_type": "markdown",
   "metadata": {},
   "source": [
    "#### Normal\n",
    "python main.py --help\n",
    "usage: main.py [-h] [--epochs EPOCHS] [--dataset {TOY2,SEGTHOR}] [--mode {partial,full}] --dest DEST [--gpu] [--debug]\n",
    "\n",
    "options:\n",
    "  -h, --help            show this help message and exit\n",
    "  --epochs EPOCHS\n",
    "  --dataset {TOY2,SEGTHOR}\n",
    "  --mode {partial,full}\n",
    "  --dest DEST           Destination directory to save the results (predictions and weights).\n",
    "  --gpu\n",
    "  --debug               Keep only a fraction (10 samples) of the datasets, to test the logic around epochs and logging easily.\n",
    "\n",
    "\n",
    "python main.py --dataset TOY2 --mode full --epoch 25 --num_workers 0 --dest results/toy2/ce --gpu\n",
    "\n",
    "#### Faster training (disable checks)\n",
    "python -O main.py --dataset TOY2 --mode full --epoch 1 --num_workers 0 --dest results/toy2/ce --gpu \n",
    "\n",
    "python -O main.py --dataset SEGTHOR --mode full --epoch 1 --num_workers 0 --dest results/segthor/ce --gpu "
   ]
  },
  {
   "cell_type": "markdown",
   "metadata": {},
   "source": [
    "## Plotting metrics"
   ]
  },
  {
   "cell_type": "markdown",
   "metadata": {},
   "source": [
    "$ python plot.py --help\n",
    "usage: plot.py [-h] --metric_file METRIC_MODE.npy [--dest METRIC_MODE.png] [--headless]\n",
    "\n",
    "Plot data over time\n",
    "\n",
    "options:\n",
    "  -h, --help            show this help message and exit\n",
    "  --metric_file METRIC_MODE.npy\n",
    "                        The metric file to plot.\n",
    "  --dest METRIC_MODE.png\n",
    "                        Optional: save the plot to a .png file\n",
    "  --headless            Does not display the plot and save it directly (implies --dest to be provided.\n",
    "  \n",
    "$ python plot.py --metric_file results/segthor/ce/dice_val.npy --dest results/segthor/ce/dice_val.png"
   ]
  },
  {
   "cell_type": "markdown",
   "metadata": {},
   "source": [
    "## Segmentation Viewer"
   ]
  },
  {
   "cell_type": "markdown",
   "metadata": {},
   "source": [
    "./viewer.py --help\n",
    "usage: viewer.py [-h] --img_source IMG_SOURCE [-n N] [--seed SEED] [--crop CROP] [-C C] [--alpha ALPHA] [--id_regex ID_REGEX] [--display_names [DISPLAY_NAMES ...]]\n",
    "                 [--class_names [CLASS_NAMES ...]] [--remap REMAP] [--no_contour] [--legend]\n",
    "                 [--cmap {Blues,BrBG,BuGn,BuPu,CMRmap,GnBu,Greens,Greys,OrRd,Oranges,PRGn,PiYG,PuBu,PuBuGn,PuOr,PuRd,Purples,RdBu,RdGy,RdPu,RdYlBu,RdYlGn,Reds,Spectral,Wistia,YlGn,YlGnBu,YlOrBr,YlOrRd,afmhot,autumn,binary,bone,brg,bwr,cool,coolwarm,copper,cubehelix,flag,gist_earth,gist_gray,gist_heat,gist_ncar,gist_rainbow,gist_stern,gist_yarg,gnuplot,gnuplot2,gray,hot,hsv,jet,nipy_spectral,ocean,pink,prism,rainbow,seismic,spring,summer,terrain,winter,Accent,Dark2,Paired,Pastel1,Pastel2,Set1,Set2,Set3,tab10,tab20,tab20b,tab20c,cityscape}]\n",
    "                 [folders ...]\n",
    "\n",
    "Display the requested data.\n",
    "\n",
    "positional arguments:\n",
    "  folders               The folder containing the source segmentations.\n",
    "\n",
    "optional arguments:\n",
    "  -h, --help            show this help message and exit\n",
    "  --img_source IMG_SOURCE\n",
    "                        The folder containing the images (display background).\n",
    "  -n N                  The number of images to sample per window.\n",
    "  --seed SEED           The seed for the number generator. Used to sample the images. Useful to reproduce the same outputs between runs.\n",
    "  --crop CROP           The number of pixels to remove from each border.\n",
    "  -C C                  Number of classes. Useful when not all of them appear on each images. (e.g., 5 classes segmentation but samples contains only classes 0 1 3.)\n",
    "  --alpha ALPHA\n",
    "  --id_regex ID_REGEX   The regex to extract the image id from the images names. Required to match the images between them. Can easily be modified to also handle .jpg\n",
    "  --display_names [DISPLAY_NAMES ...]\n",
    "                        The display name for the folders in the viewer. If not set, will use the whole folder name.\n",
    "  --class_names [CLASS_NAMES ...]\n",
    "                        Give names to classes, useful for multi-organs segmentation.\n",
    "  --remap REMAP         Remap some mask values if needed. Useful to suppress some classes.\n",
    "  --no_contour          Do not draw a contour but a transparent overlap instead.\n",
    "  --legend              When set, display the legend of the colors at the bottom\n",
    "  --cmap {Blues,BrBG,BuGn,BuPu,CMRmap,GnBu,Greens,Greys,OrRd,Oranges,PRGn,PiYG,PuBu,PuBuGn,PuOr,PuRd,Purples,RdBu,RdGy,RdPu,RdYlBu,RdYlGn,Reds,Spectral,Wistia,YlGn,YlGnBu,YlOrBr,YlOrRd,afmhot,autumn,binary,bone,brg,bwr,cool,coolwarm,copper,cubehelix,flag,gist_earth,gist_gray,gist_heat,gist_ncar,gist_rainbow,gist_stern,gist_yarg,gnuplot,gnuplot2,gray,hot,hsv,jet,nipy_spectral,ocean,pink,prism,rainbow,seismic,spring,summer,terrain,winter,Accent,Dark2,Paired,Pastel1,Pastel2,Set1,Set2,Set3,tab10,tab20,tab20b,tab20c,cityscape}\n"
   ]
  },
  {
   "cell_type": "markdown",
   "metadata": {},
   "source": [
    "python viewer.py  -n 1 -C 34 --img_source data/gsv_images results/cityscapes/fcn8s_fine/gsv_pred/iter000 results/cityscapes/residualunet/gsv_pred/iter000 results/cityscapes/fcn8s_fine/gsv_pred_crf/iter000 results/cityscapes/residualunet/gsv_pred_crf/iter000 --display_names fcn8s_fine residualunet  fcn8s_fine_crf residualunet_crf --no_contour --cmap cityscape --legend"
   ]
  }
 ],
 "metadata": {
  "kernelspec": {
   "display_name": "ai4mi",
   "language": "python",
   "name": "python3"
  },
  "language_info": {
   "codemirror_mode": {
    "name": "ipython",
    "version": 3
   },
   "file_extension": ".py",
   "mimetype": "text/x-python",
   "name": "python",
   "nbconvert_exporter": "python",
   "pygments_lexer": "ipython3",
   "version": "3.11.9"
  }
 },
 "nbformat": 4,
 "nbformat_minor": 2
}
